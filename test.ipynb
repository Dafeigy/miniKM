{
 "cells": [
  {
   "cell_type": "code",
   "execution_count": 55,
   "metadata": {},
   "outputs": [],
   "source": [
    "import torch\n",
    "from config import *\n",
    "import numpy as np \n",
    "import cmath\n",
    "\n",
    "def complex2argument(data:dict):\n",
    "    \"\"\"\n",
    "    将一个sample内的复数转换成幅度和相角矩阵。一个sample是指从一根天线得到的若干个子载波组成的一维数据。\n",
    "    返回两个与sample相同长度的一维矩阵。\n",
    "    \"\"\"\n",
    "    raw_amp =   [abs(complex(each['real'],each['image'])) for each in data]\n",
    "    raw_phi = [cmath.phase(complex(each['real'],each['image'])) for each in data]\n",
    "    \n",
    "\n",
    "    amp = eliminate_319_amp_offset(np.array(raw_amp))\n",
    "    phi = process_phase(raw_phi)\n",
    "\n",
    "    return [amp, phi]\n",
    "\n",
    "def eliminate_319_amp_offset(raw_amp:list):\n",
    "    raw_amp[318] = (raw_amp[317] + raw_amp[319] )/ 2\n",
    "    return raw_amp\n",
    "\n",
    "def process_phase(raw_phase:list)->list:\n",
    "    \"\"\"\n",
    "    Unwrap Phase data and perform linear transform. \n",
    "    Return the preprocessed_data in list.\n",
    "    \"\"\"\n",
    "    m = [i for i in range(-624,624,2)]\n",
    "    F = np.unwrap(np.array(raw_phase)).tolist()\n",
    "    k_ = (F[-1]-F[0])/(m[-1]-m[0])\n",
    "    b_ = sum(F)/len(F)\n",
    "    return [F[i] - k_*m[i] - b_ for i in range(len(F))]\n",
    "\n",
    "\n",
    "\n",
    "\n",
    "def rec_trans(sample):\n",
    "    tensor = torch.tensor(\n",
    "        [complex2argument(sample['ESTIMATION'][i]['LSSRS']) for i in range(nb_gNB_TX * nb_UE_Ports)]\n",
    "        ).permute(2,0,1)\n",
    "    tensor = tensor.view(1, nb_subcarrier, 2, nb_gNB_TX * nb_UE_Ports)\n",
    "    return tensor\n"
   ]
  },
  {
   "cell_type": "code",
   "execution_count": 2,
   "metadata": {},
   "outputs": [],
   "source": [
    "with open(\"test.txt\",'r') as f:\n",
    "    sample = eval(f.readline())\n"
   ]
  },
  {
   "cell_type": "code",
   "execution_count": 57,
   "metadata": {},
   "outputs": [
    {
     "name": "stdout",
     "output_type": "stream",
     "text": [
      "torch.Size([1, 624, 2, 2])\n"
     ]
    }
   ],
   "source": [
    "tes = rec_trans(sample)\n",
    "print(tes.shape)"
   ]
  },
  {
   "cell_type": "code",
   "execution_count": 30,
   "metadata": {},
   "outputs": [],
   "source": [
    "raw_amp = [abs(complex(each['real'], each['image'])) for each in sample['ESTIMATION'][0]['LSSRS']]\n",
    "raw_phi = [cmath.phase(complex(each['real'], each['image'])) for each in sample['ESTIMATION'][0]['LSSRS']]\n",
    "amp_1 = eliminate_319_amp_offset(raw_amp)\n",
    "phi_1 = process_phase(raw_phi)"
   ]
  },
  {
   "cell_type": "code",
   "execution_count": 31,
   "metadata": {},
   "outputs": [],
   "source": [
    "raw_amp = [abs(complex(each['real'], each['image'])) for each in sample['ESTIMATION'][1]['LSSRS']]\n",
    "raw_phi = [cmath.phase(complex(each['real'], each['image'])) for each in sample['ESTIMATION'][1]['LSSRS']]\n",
    "amp_2 = eliminate_319_amp_offset(raw_amp)\n",
    "phi_2 = process_phase(raw_phi)"
   ]
  },
  {
   "cell_type": "code",
   "execution_count": 52,
   "metadata": {},
   "outputs": [],
   "source": [
    "tes = torch.tensor([[amp_1,phi_1],[amp_2,phi_2]]).permute(2,0,1)"
   ]
  },
  {
   "cell_type": "code",
   "execution_count": 53,
   "metadata": {},
   "outputs": [
    {
     "data": {
      "text/plain": [
       "tensor([[1.5040e+02, 6.1118e-02],\n",
       "        [1.7400e+02, 7.9515e-01]])"
      ]
     },
     "execution_count": 53,
     "metadata": {},
     "output_type": "execute_result"
    }
   ],
   "source": [
    "tes[0]"
   ]
  },
  {
   "cell_type": "code",
   "execution_count": 39,
   "metadata": {},
   "outputs": [],
   "source": []
  }
 ],
 "metadata": {
  "kernelspec": {
   "display_name": "Python 3",
   "language": "python",
   "name": "python3"
  },
  "language_info": {
   "codemirror_mode": {
    "name": "ipython",
    "version": 3
   },
   "file_extension": ".py",
   "mimetype": "text/x-python",
   "name": "python",
   "nbconvert_exporter": "python",
   "pygments_lexer": "ipython3",
   "version": "3.9.13"
  },
  "orig_nbformat": 4
 },
 "nbformat": 4,
 "nbformat_minor": 2
}
