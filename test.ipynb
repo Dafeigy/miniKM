{
 "cells": [
  {
   "cell_type": "code",
   "execution_count": 2,
   "metadata": {},
   "outputs": [],
   "source": [
    "import torch\n",
    "from config import *\n",
    "import numpy as np \n",
    "import cmath\n",
    "\n",
    "def complex2argument(data:dict):\n",
    "    \"\"\"\n",
    "    将一个sample内的复数转换成幅度和相角矩阵。一个sample是指从一根天线得到的若干个子载波组成的一维数据。\n",
    "    返回两个与sample相同长度的一维矩阵。\n",
    "    \"\"\"\n",
    "    amp =   [abs(complex(each['real'],each['image'])) for each in data]\n",
    "    phase = [cmath.phase(complex(each['real'],each['image'])) for each in data]\n",
    "    return amp, phase\n",
    "\n",
    "\n",
    "def eliminate_319_amp_offset(raw_amp:np.ndarray):\n",
    "    raw_amp[:,318,0,:] = (raw_amp[:,317,0,:] + raw_amp[:,319,0,:] )/ 2\n",
    "    return raw_amp\n",
    "\n",
    "def process_phase(raw_phase:list)->list:\n",
    "    \"\"\"\n",
    "    Unwrap Phase data and perform linear transform. \n",
    "    Return the preprocessed_data in list.\n",
    "    \"\"\"\n",
    "    m = [i for i in range(-624,624,2)]\n",
    "    F = np.unwrap(np.array(raw_phase)).tolist()\n",
    "    k_ = (F[-1]-F[0])/(m[-1]-m[0])\n",
    "    b_ = sum(F)/len(F)\n",
    "    return [F[i] - k_*m[i] - b_ for i in range(len(F))]"
   ]
  },
  {
   "cell_type": "code",
   "execution_count": null,
   "metadata": {},
   "outputs": [],
   "source": []
  }
 ],
 "metadata": {
  "kernelspec": {
   "display_name": "Python 3",
   "language": "python",
   "name": "python3"
  },
  "language_info": {
   "codemirror_mode": {
    "name": "ipython",
    "version": 3
   },
   "file_extension": ".py",
   "mimetype": "text/x-python",
   "name": "python",
   "nbconvert_exporter": "python",
   "pygments_lexer": "ipython3",
   "version": "3.9.13"
  },
  "orig_nbformat": 4
 },
 "nbformat": 4,
 "nbformat_minor": 2
}
